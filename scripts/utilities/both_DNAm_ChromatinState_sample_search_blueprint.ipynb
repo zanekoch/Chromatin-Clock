{
 "cells": [
  {
   "cell_type": "code",
   "execution_count": null,
   "id": "97eb8def-6bcd-493e-b595-1d3fed68af09",
   "metadata": {},
   "outputs": [],
   "source": [
    "import pandas as pd\n",
    "import numpy as np\n",
    "import sys\n",
    "import os\n",
    "import glob\n",
    "import matplotlib                                           \n",
    "import matplotlib.pyplot as plt"
   ]
  },
  {
   "cell_type": "code",
   "execution_count": null,
   "id": "b21f4790-ac97-4afa-a568-173373948241",
   "metadata": {},
   "outputs": [],
   "source": [
    "# get each of the sets of samples with Chip-Seq data we will use from blueprint                                     \n",
    "dir = '../blueprint_data/POSTERIOR_Blueprint_release_201608/POSTERIOR_healthy\\\n",
    "_model'\n",
    "sample_name_list = []\n",
    "for f in glob.glob(os.path.join(dir, '*.txt')):\n",
    "    sample_name = f.split('/')[-1].split('_')[0]\n",
    "    if sample_name not in sample_name_list:\n",
    "        sample_name_list.append(sample_name)\n",
    "dir = '../blueprint_data/POSTERIOR_Blueprint_release_201608/POSTERIOR_healthy\\\n",
    "'\n",
    "for f in glob.glob(os.path.join(dir, '*.txt')):\n",
    "    sample_name = f.split('/')[-1].split('_')[0]\n",
    "    if sample_name not in sample_name_list:\n",
    "        sample_name_list.append(sample_name)"
   ]
  },
  {
   "cell_type": "code",
   "execution_count": 19,
   "id": "db7b244a-2670-4710-a401-35db1a883ab9",
   "metadata": {},
   "outputs": [],
   "source": [
    "# select only the metadata for above samples                                  \n",
    "df = pd.read_csv('../blueprint_data/20160816.data.index', sep='\\t')\n",
    "boolean_series = df.SAMPLE_NAME.isin(sample_name_list)\n",
    "df = df[boolean_series]"
   ]
  },
  {
   "cell_type": "code",
   "execution_count": 10,
   "id": "7a2750b3-e5b7-46c5-b48a-a317a019cebc",
   "metadata": {},
   "outputs": [],
   "source": [
    "# check if any of these samples has multiple library strategy entries\n",
    "# options for entries of library are: 'Bisulfite-Seq', 'ChIP-Seq', 'RNA-Seq', 'DNase-Hypersensitivity'\n",
    "for sample_name in sample_name_list:\n",
    "    one_sample_df = df[df['SAMPLE_NAME'] == sample_name]\n",
    "    all_ls = one_sample_df.LIBRARY_STRATEGY.unique()\n",
    "    if len(all_ls) != 1:\n",
    "        print(all_ls)\n",
    "        quit()"
   ]
  },
  {
   "cell_type": "code",
   "execution_count": 11,
   "id": "e89db5d1-912b-4caa-bed0-a1778ee736dc",
   "metadata": {},
   "outputs": [],
   "source": [
    "# no samples has multiple library strategies \n",
    "# => no samples have both ChIP-seq (and thus chromatin state) data and DNAm/Bisulfite-Seq data"
   ]
  },
  {
   "cell_type": "code",
   "execution_count": 14,
   "id": "7b6207ec-1da8-479e-9c04-d1de5e80b558",
   "metadata": {},
   "outputs": [
    {
     "data": {
      "text/plain": [
       "array([], dtype=object)"
      ]
     },
     "execution_count": 14,
     "metadata": {},
     "output_type": "execute_result"
    }
   ],
   "source": [
    "# to double check this is true\n",
    "df = pd.read_csv('../blueprint_data/20160816.data.index', sep='\\t')\n",
    "a1 = df[(df['LIBRARY_STRATEGY'] == 'Bisulfite-Seq')]['SAMPLE_NAME'].unique()\n",
    "a2 = df[(df['LIBRARY_STRATEGY'] == 'ChIP-Seq')]['SAMPLE_NAME'].unique()\n",
    "np.intersect1d(a1, a2)"
   ]
  },
  {
   "cell_type": "code",
   "execution_count": 16,
   "id": "7fcd5590-2bbc-4a63-b589-5473d67c4695",
   "metadata": {},
   "outputs": [
    {
     "data": {
      "text/plain": [
       "array([], dtype=object)"
      ]
     },
     "execution_count": 16,
     "metadata": {},
     "output_type": "execute_result"
    }
   ],
   "source": [
    "# see if this is true for sample id's as well\n",
    "df = pd.read_csv('../blueprint_data/20160816.data.index', sep='\\t')\n",
    "a1 = df[(df['LIBRARY_STRATEGY'] == 'Bisulfite-Seq')]['SAMPLE_ID'].unique()\n",
    "a2 = df[(df['LIBRARY_STRATEGY'] == 'ChIP-Seq')]['SAMPLE_ID'].unique()\n",
    "np.intersect1d(a1, a2)"
   ]
  },
  {
   "cell_type": "code",
   "execution_count": 15,
   "id": "32129ef3-3929-44e9-9e7a-8fdbcb00e13e",
   "metadata": {},
   "outputs": [],
   "source": [
    "# confirmed, no samples have both chromatin state data and DNAm data"
   ]
  },
  {
   "cell_type": "code",
   "execution_count": null,
   "id": "ec6a5db9-86ca-4a6c-b13d-521499bdce67",
   "metadata": {},
   "outputs": [],
   "source": [
    "# this is surprising"
   ]
  }
 ],
 "metadata": {
  "kernelspec": {
   "display_name": "Python 3",
   "language": "python",
   "name": "python3"
  },
  "language_info": {
   "codemirror_mode": {
    "name": "ipython",
    "version": 3
   },
   "file_extension": ".py",
   "mimetype": "text/x-python",
   "name": "python",
   "nbconvert_exporter": "python",
   "pygments_lexer": "ipython3",
   "version": "3.9.5"
  }
 },
 "nbformat": 4,
 "nbformat_minor": 5
}
